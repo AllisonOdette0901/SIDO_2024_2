{
  "nbformat": 4,
  "nbformat_minor": 0,
  "metadata": {
    "colab": {
      "provenance": [],
      "authorship_tag": "ABX9TyOH02TIINZgj7aQFg19o3p8",
      "include_colab_link": true
    },
    "kernelspec": {
      "name": "python3",
      "display_name": "Python 3"
    },
    "language_info": {
      "name": "python"
    }
  },
  "cells": [
    {
      "cell_type": "markdown",
      "metadata": {
        "id": "view-in-github",
        "colab_type": "text"
      },
      "source": [
        "<a href=\"https://colab.research.google.com/github/AllisonOdette0901/SIDO_2024_2/blob/main/Practica2_clase.ipynb\" target=\"_parent\"><img src=\"https://colab.research.google.com/assets/colab-badge.svg\" alt=\"Open In Colab\"/></a>"
      ]
    },
    {
      "cell_type": "markdown",
      "source": [
        "# 💻🙂 Práctica. Algoritmos glotones.\n",
        "\n",
        "En la anterior práctica calculaste todos los posibles ciclos hamiltonianos posibles para el problema del agente viajero, también calculaste la longitud de cada uno de ellos y retornaste el de menor distancia.\n",
        "\n",
        "Ahora verás que los algoritmos glotones sirven para dar una solución factible, no necesariamente la mejor pero ésta servirá más adelante.\n",
        "\n",
        "El siguiente código tiene como finalidad devolver una solución factible para el problema del agente viajero."
      ],
      "metadata": {
        "id": "TxXLEs8ZXRUX"
      }
    },
    {
      "cell_type": "code",
      "execution_count": null,
      "metadata": {
        "id": "cME6rf_9XM5X"
      },
      "outputs": [],
      "source": [
        "import networkx as nx\n",
        "import matplotlib.pyplot as plot\n",
        "import math"
      ]
    },
    {
      "cell_type": "code",
      "source": [
        "# La entrada de nearest_neighbors recibe una gráfica g\n",
        "# La gráfica es completa, no dirigida y sin ciclos\n",
        "#\n",
        "# La función debe retornar el peso del vecino más cercano, el cual comienza en el vértice número 0.\n",
        "# y cada vez selecciona el vértice más cercano.\n",
        "\n",
        "def nearest_neighbors(g):\n",
        "    current_node = 0\n",
        "    path = [current_node]\n",
        "    n = g.number_of_nodes()\n",
        "\n",
        "    # Repetimos la rutina (n-1) veces\n",
        "    for _ in range(n - 1):\n",
        "        next_node = None\n",
        "        # La distancia al vértice más cercano. Inicializado con infinito.\n",
        "        min_edge = float(\"inf\")\n",
        "        for v in g.nodes():\n",
        "          # Escribe tu código aquí: decide si v es un mejor candidato que next_node.\n",
        "          # Si es así, actualice los valores de next_node y min_edge\n",
        "\n",
        "        assert next_node is not None\n",
        "        path.append(next_node)\n",
        "        current_node = next_node\n",
        "\n",
        "    weight = sum(g[path[i]][path[i + 1]]['weight'] for i in range(g.number_of_nodes() - 1))\n",
        "    weight += g[path[-1]][path[0]]['weight']\n",
        "\n",
        "    return path,weight"
      ],
      "metadata": {
        "id": "VtmcCAfzZZXe"
      },
      "execution_count": null,
      "outputs": []
    },
    {
      "cell_type": "code",
      "source": [
        "# ejemplo 1\n",
        "g = nx.Graph()\n",
        "g.add_edge(0, 1, weight = 2)\n",
        "g.add_edge(1, 2, weight = 2)\n",
        "g.add_edge(2, 3, weight = 2)\n",
        "g.add_edge(3, 0, weight = 2)\n",
        "g.add_edge(0, 2, weight = 1)\n",
        "g.add_edge(1, 3, weight = 1)"
      ],
      "metadata": {
        "id": "C5yj3x7gZjfx"
      },
      "execution_count": null,
      "outputs": []
    },
    {
      "cell_type": "code",
      "source": [
        "resultado = nearest_neighbors(g)\n",
        "print(resultado[1])"
      ],
      "metadata": {
        "id": "RLiqVefvZuqC"
      },
      "execution_count": null,
      "outputs": []
    },
    {
      "cell_type": "markdown",
      "source": [
        "### Ahora con coordenadas"
      ],
      "metadata": {
        "id": "kk9QnhD4aURc"
      }
    },
    {
      "cell_type": "code",
      "source": [
        "\n",
        "def dist(x1, y1, x2, y2):\n",
        "    return math.sqrt((x1 - x2) ** 2 + (y1 - y2) ** 2)\n",
        "\n",
        "def get_graph(coordinates):\n",
        "    g = nx.Graph()\n",
        "    n = len(coordinates)\n",
        "    for i in range(n):\n",
        "        for j in range(i + 1):\n",
        "            g.add_edge(i, j, weight=dist(coordinates[i][0], coordinates[i][1], coordinates[j][0], coordinates[j][1]))\n",
        "    return g\n",
        "\n",
        "def plot_cycle(coordinates, cycle):\n",
        "    x_coordinates = [coordinates[i][0] for i in cycle]\n",
        "    y_coordinates = [coordinates[i][1] for i in cycle]\n",
        "\n",
        "    x_coordinates.append(coordinates[cycle[0]][0])\n",
        "    y_coordinates.append(coordinates[cycle[0]][1])\n",
        "\n",
        "    plot.plot(x_coordinates, y_coordinates, 'xb-', )\n",
        "    plot.show()"
      ],
      "metadata": {
        "id": "ZXqcxl2haRCD"
      },
      "execution_count": null,
      "outputs": []
    },
    {
      "cell_type": "code",
      "source": [
        "# ejemplo 2\n",
        "coordinates1 = [\n",
        "    (166, 282),\n",
        "    (43, 79),\n",
        "    (285, 44)\n",
        "    ]\n",
        "g1 = get_graph(coordinates1)\n",
        "nearest_neighbors(g1)\n",
        "plot_cycle(coordinates1, nearest_neighbors(g1)[0])"
      ],
      "metadata": {
        "id": "Fz-3hCSba4p-"
      },
      "execution_count": null,
      "outputs": []
    },
    {
      "cell_type": "markdown",
      "source": [
        "Vamos a probarlo con una instancia más grande."
      ],
      "metadata": {
        "id": "COrBEm5QZ8hZ"
      }
    },
    {
      "cell_type": "code",
      "source": [
        "coordinates_16 = [\n",
        "    (38.24, 20.42),\n",
        "    (39.57, 26.15),\n",
        "    (40.56, 25.32),\n",
        "    (36.26, 23.12),\n",
        "    (33.48, 10.54),\n",
        "    (37.56, 12.19),\n",
        "    (38.42, 13.11),\n",
        "    (37.52, 20.44),\n",
        "    (41.23, 9.10),\n",
        "    (41.17, 13.05),\n",
        "    (36.08, -5.21),\n",
        "    (38.47, 15.13),\n",
        "    (38.15, 15.35),\n",
        "    (37.51, 15.17),\n",
        "    (35.49, 14.32),\n",
        "    (39.36, 19.56)\n",
        "]"
      ],
      "metadata": {
        "id": "RTPljBMHb6TY"
      },
      "execution_count": null,
      "outputs": []
    },
    {
      "cell_type": "code",
      "source": [
        "# Creamos la gráfica\n",
        "g_16 = get_graph(coordinates_16)"
      ],
      "metadata": {
        "id": "DOOK4j9sdBGR"
      },
      "execution_count": null,
      "outputs": []
    },
    {
      "cell_type": "code",
      "source": [
        "# prueba la función con la gráfica g_16\n",
        "nearest_neighbors(g_16)"
      ],
      "metadata": {
        "id": "LWlwyd3fdGvY"
      },
      "execution_count": null,
      "outputs": []
    },
    {
      "cell_type": "code",
      "source": [
        "# graficamos el resultado\n",
        "# coloca en la primera entrada las coordenadas de g_16 y en la segunda entrada el ciclo encontrado por nearest_neighbors\n",
        "plot_cycle()"
      ],
      "metadata": {
        "id": "W3WWK_DzdJ26"
      },
      "execution_count": null,
      "outputs": []
    },
    {
      "cell_type": "markdown",
      "source": [
        "¿Cuál es el valor del ciclo con la ciudad inicial 1?"
      ],
      "metadata": {
        "id": "yrZUVdw_eBBE"
      }
    },
    {
      "cell_type": "markdown",
      "source": [
        "### Modificación de la función\n",
        "Ahora modifica un poco tu función ´nearest_neighbors(g)´ y permite modificar la ciudad inicial. Colocala en el siguiente apartado:\n",
        "\n"
      ],
      "metadata": {
        "id": "SqL16hX8eRpn"
      }
    },
    {
      "cell_type": "code",
      "source": [
        "# modifica nearest_negighbors(g, ciudad_inicial):"
      ],
      "metadata": {
        "id": "Uj_HPGymeueh"
      },
      "execution_count": null,
      "outputs": []
    },
    {
      "cell_type": "markdown",
      "source": [
        "Ahora que puedes elegir la ciudad inicial, registra tus resultados con los siguientes casos:\n",
        "\n"
      ],
      "metadata": {
        "id": "7nAREc7je8QT"
      }
    },
    {
      "cell_type": "code",
      "source": [
        "# ciudad inicial 16"
      ],
      "metadata": {
        "id": "WZzazOtCfQxF"
      },
      "execution_count": null,
      "outputs": []
    },
    {
      "cell_type": "markdown",
      "source": [
        "¿Cuál es el valor del ciclo hamiltoniano iniciando en la ciudad 16?\n",
        "\n"
      ],
      "metadata": {
        "id": "arBnGsT3fUJd"
      }
    },
    {
      "cell_type": "code",
      "source": [
        "# ciudad inicial 10"
      ],
      "metadata": {
        "id": "dWRh0Q0ofa2e"
      },
      "execution_count": null,
      "outputs": []
    },
    {
      "cell_type": "markdown",
      "source": [
        "¿Cuál es el valor del ciclo hamiltoniano iniciando en la ciudad 10?\n"
      ],
      "metadata": {
        "id": "QcgBKbiafeyz"
      }
    },
    {
      "cell_type": "code",
      "source": [
        "# ciudad inicial 6"
      ],
      "metadata": {
        "id": "3tkb68-6fgSe"
      },
      "execution_count": null,
      "outputs": []
    },
    {
      "cell_type": "markdown",
      "source": [
        "¿Cuál es el valor del ciclo hamiltoniano iniciando en la ciudad 6?\n"
      ],
      "metadata": {
        "id": "7nwVQ3rEfjto"
      }
    }
  ]
}