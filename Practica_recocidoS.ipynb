{
  "nbformat": 4,
  "nbformat_minor": 0,
  "metadata": {
    "colab": {
      "provenance": [],
      "authorship_tag": "ABX9TyMMwwl++q8CP53+hUZTB2sZ",
      "include_colab_link": true
    },
    "kernelspec": {
      "name": "python3",
      "display_name": "Python 3"
    },
    "language_info": {
      "name": "python"
    }
  },
  "cells": [
    {
      "cell_type": "markdown",
      "metadata": {
        "id": "view-in-github",
        "colab_type": "text"
      },
      "source": [
        "<a href=\"https://colab.research.google.com/github/AllisonOdette0901/SIDO_2024_2/blob/main/Practica_recocidoS.ipynb\" target=\"_parent\"><img src=\"https://colab.research.google.com/assets/colab-badge.svg\" alt=\"Open In Colab\"/></a>"
      ]
    },
    {
      "cell_type": "markdown",
      "source": [
        "# Práctica: Recocido simulado  💻"
      ],
      "metadata": {
        "id": "IguonWsLcAio"
      }
    },
    {
      "cell_type": "code",
      "execution_count": null,
      "metadata": {
        "id": "lAh9sGc8b7N4"
      },
      "outputs": [],
      "source": [
        "# paqueterías poisbles a utlizar en la tarea\n",
        "import matplotlib.pyplot as plt\n",
        "import numpy as np\n",
        "import random\n",
        "import math"
      ]
    },
    {
      "cell_type": "markdown",
      "source": [
        "Primero deberás programar la vecindad vista en clase N1. Coloca el nombre de la función como `vecindad_N1(tour)` donde el parámetro de entrada sea un tour."
      ],
      "metadata": {
        "id": "abBO4BHQcK-L"
      }
    },
    {
      "cell_type": "code",
      "source": [
        "# Vecindad N1"
      ],
      "metadata": {
        "id": "9h5hIo-BcLh8"
      },
      "execution_count": null,
      "outputs": []
    },
    {
      "cell_type": "markdown",
      "source": [
        "Ahora programa la vecindad de la tarea N2. Coloca el nombre de la función como `vecindad_N2(tour)` donde el parámetro de entrada sea un tour."
      ],
      "metadata": {
        "id": "0c0ItgcEcSD1"
      }
    },
    {
      "cell_type": "code",
      "source": [
        "# vecindad N2"
      ],
      "metadata": {
        "id": "9M7tah45cRw7"
      },
      "execution_count": null,
      "outputs": []
    },
    {
      "cell_type": "markdown",
      "source": [
        "El ejemplo con el que vas a trabajar es el siguiente:"
      ],
      "metadata": {
        "id": "p1X8kQivccpQ"
      }
    },
    {
      "cell_type": "code",
      "source": [
        "np.random.seed(274)\n",
        "num_cities = 10\n",
        "\n",
        "# Generar las coordenadas de las ciudades aleatoriamente en un espacio bidimensional\n",
        "cities_coordinates = np.random.rand(num_cities, 2)\n",
        "\n",
        "# Calcular la matriz de distancias\n",
        "grafica_10ciudades = np.zeros((num_cities, num_cities))\n",
        "for i in range(num_cities):\n",
        "    for j in range(i+1, num_cities):\n",
        "        distance = np.linalg.norm(cities_coordinates[i] - cities_coordinates[j])\n",
        "        grafica_10ciudades[i, j] = distance\n",
        "        grafica_10ciudades[j, i] = distance  # La matriz de distancias es simétrica\n",
        "\n",
        "#print(grafica_10ciudades)"
      ],
      "metadata": {
        "id": "Z-Fwi461ccVX"
      },
      "execution_count": null,
      "outputs": []
    },
    {
      "cell_type": "markdown",
      "source": [
        "Ahora destina todo el siguiente espacio para programar la función de recocido simulado con los parámetros que se te piden.\n",
        "\n",
        "La función RecocidoSimulado debe devolver el mejor valor de todas las soluciones y el tour, también debes graficar los resultados de las distancias que obtuviste."
      ],
      "metadata": {
        "id": "diXDxI-zcrLV"
      }
    },
    {
      "cell_type": "code",
      "source": [
        "# función que evalua la distancia de un ciclo hamiltoniano\n",
        "def evalua_distancia(g,tour):\n",
        "        dis = sum(g[tour[i]][tour[i+1]] for i in range(len(tour)-1))\n",
        "        dis += g[tour[-1]][tour[0]]\n",
        "        return dis"
      ],
      "metadata": {
        "id": "czbRx__OdPN7"
      },
      "execution_count": null,
      "outputs": []
    },
    {
      "cell_type": "code",
      "source": [
        "def RecocidoSimulado(grafica, T0 =100, alpha = .85, NREP = 2, Tf =1 ,prinT=True, vecindad= vecindad_N1):\n",
        "    \"\"\"\n",
        "    Inputs:\n",
        "      g: gráfica del tsp\n",
        "      T0: temperatura inicial\n",
        "      alpha: tasa de decremento\n",
        "      NREP: número de repeticiones\n",
        "      Tf: temperatura final\n",
        "      prinT: si quieres o no imprimir cada iteración\n",
        "      vecinos: vecindad a utilizar\n",
        "    \"\"\"\n",
        "    # temperatura inicial\n",
        "    T = T0\n",
        "    # Vamos a generar una solución aleatoria inicial\n",
        "    num_ciudades = len(grafica)\n",
        "    sol_inicial = [i for i in range(num_ciudades)]\n",
        "    random.shuffle(sol_inicial)\n",
        "\n",
        "    f_sol_inicial = evalua_distancia(grafica, sol_inicial) #utiliza la función que devuelva la distancia de un ciclo hamiltoniano"
      ],
      "metadata": {
        "id": "oVGcGjBgc1Dx"
      },
      "execution_count": null,
      "outputs": []
    },
    {
      "cell_type": "markdown",
      "source": [
        "Aquí tienes una función auxiliar para gráficar un ciclo hamiltoniano, puedes utilizarla para graficar la mejor solución que obtengas con el recocido simulado.\n"
      ],
      "metadata": {
        "id": "3a17cMb4c1U3"
      }
    },
    {
      "cell_type": "code",
      "source": [
        "import matplotlib.pyplot as plt\n",
        "\n",
        "# Función para graficar la solución\n",
        "def plot_solution(cities_coordinates, solution):\n",
        "    plt.figure(figsize=(8, 6))\n",
        "\n",
        "    # Dibujar las ciudades\n",
        "    plt.scatter(cities_coordinates[:, 0], cities_coordinates[:, 1], c='blue', label='Ciudades')\n",
        "\n",
        "    # Dibujar las conexiones entre las ciudades según la solución\n",
        "    for i in range(len(solution) - 1):\n",
        "        city1 = solution[i]\n",
        "        city2 = solution[i + 1]\n",
        "        plt.plot([cities_coordinates[city1, 0], cities_coordinates[city2, 0]],\n",
        "                 [cities_coordinates[city1, 1], cities_coordinates[city2, 1]], c='red')\n",
        "\n",
        "    # Dibujar la conexión desde la última ciudad a la primera\n",
        "    plt.plot([cities_coordinates[solution[-1], 0], cities_coordinates[solution[0], 0]],\n",
        "             [cities_coordinates[solution[-1], 1], cities_coordinates[solution[0], 1]], c='red')\n",
        "\n",
        "    # Configuraciones adicionales\n",
        "    plt.title('Solución del Problema del Agente Viajero')\n",
        "    plt.xlabel('Coordenada X')\n",
        "    plt.ylabel('Coordenada Y')\n",
        "    plt.legend()\n",
        "    plt.grid(True)\n",
        "    plt.show()\n",
        "\n",
        "# ejemplo de cómo funciona\n",
        "solution = np.random.permutation(num_cities)\n",
        "\n",
        "# Graficar la solución\n",
        "plot_solution(cities_coordinates, solution)"
      ],
      "metadata": {
        "id": "56KTIIcjdCnj"
      },
      "execution_count": null,
      "outputs": []
    }
  ]
}