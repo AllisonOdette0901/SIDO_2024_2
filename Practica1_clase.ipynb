{
  "cells": [
    {
      "cell_type": "markdown",
      "metadata": {
        "id": "view-in-github",
        "colab_type": "text"
      },
      "source": [
        "<a href=\"https://colab.research.google.com/github/AllisonOdette0901/SIDO_2024_2/blob/main/Practica1_clase.ipynb\" target=\"_parent\"><img src=\"https://colab.research.google.com/assets/colab-badge.svg\" alt=\"Open In Colab\"/></a>"
      ]
    },
    {
      "cell_type": "markdown",
      "id": "a28aab49-55bc-4733-87c7-5d35b1ad34dd",
      "metadata": {
        "id": "a28aab49-55bc-4733-87c7-5d35b1ad34dd"
      },
      "source": [
        "# Ejercicios. Búsqueda local y exhaustiva.\n",
        "\n"
      ]
    },
    {
      "cell_type": "markdown",
      "id": "6029f66c-5548-49e6-a928-a618bcc265f8",
      "metadata": {
        "id": "6029f66c-5548-49e6-a928-a618bcc265f8"
      },
      "source": [
        "**Ejercicio 1**\n",
        "\n",
        "Implementa una función que tome un grafo y una lista de vértices en un ciclo hamiltoniano, y devuelva el peso de este ciclo."
      ]
    },
    {
      "cell_type": "code",
      "execution_count": null,
      "id": "965fb63b-ff2e-4752-b774-e5aa53bd2ade",
      "metadata": {
        "id": "965fb63b-ff2e-4752-b774-e5aa53bd2ade"
      },
      "outputs": [],
      "source": [
        "# paqueterías con las que se trabajan en todo el ejercicio\n",
        "import networkx as nx\n",
        "import math"
      ]
    },
    {
      "cell_type": "code",
      "execution_count": null,
      "id": "ab27f4c7-25a6-4b32-868f-e84a3eab6817",
      "metadata": {
        "id": "ab27f4c7-25a6-4b32-868f-e84a3eab6817"
      },
      "outputs": [],
      "source": [
        "# Esta función retorna el peso de un ciclo\n",
        "# No olvides que debes añadir la última arista donde se conectan el último vértice con el primero de la lista\n",
        "# Si necesitas obtener el peso de una arista entre dos vértices u y v, puedes hacerlo mediante g[u][v]['weight']\n",
        "def cycle_length(g, cycle):\n",
        "    # Checamos si el número de vértices en la gráfica es igual al número de vértices en el ciclo\n",
        "    assert len(cycle) == g.number_of_nodes()\n",
        "    # escribe tu código\n",
        "\n",
        "    return ???"
      ]
    },
    {
      "cell_type": "code",
      "execution_count": null,
      "id": "eb2a2755-2452-4b2d-9e16-60daeb7a877d",
      "metadata": {
        "id": "eb2a2755-2452-4b2d-9e16-60daeb7a877d"
      },
      "outputs": [],
      "source": [
        "# Aquí hay un ejemplo para probar tu código\n",
        "# Creamos un objeto gráfica vacío\n",
        "g = nx.Graph()\n",
        "# Agregamos 6 aristas y 4 vértices\n",
        "g.add_edge(0, 1, weight = 2)\n",
        "# Se trabajaran con aristas no dirigidas, entonces si agregamos la arista de u a v, automáticamente se agrega de v a u\n",
        "g.add_edge(1, 2, weight = 2)\n",
        "g.add_edge(2, 3, weight = 2)\n",
        "g.add_edge(3, 0, weight = 2)\n",
        "g.add_edge(0, 2, weight = 1)\n",
        "g.add_edge(1, 3, weight = 1)"
      ]
    },
    {
      "cell_type": "code",
      "execution_count": null,
      "id": "fa373204-8fdc-4328-9ca2-d7b0be5c7c43",
      "metadata": {
        "id": "fa373204-8fdc-4328-9ca2-d7b0be5c7c43"
      },
      "outputs": [],
      "source": [
        "# Ahora vamos a calcular el peso de estos dos ciclos:\n",
        "cycle1 = [0, 1, 2, 3]\n",
        "cycle_length(g, cycle1)"
      ]
    },
    {
      "cell_type": "code",
      "execution_count": null,
      "id": "23ecbc80-8e5f-4dbe-9b94-2c850b3e5ed4",
      "metadata": {
        "id": "23ecbc80-8e5f-4dbe-9b94-2c850b3e5ed4"
      },
      "outputs": [],
      "source": [
        "cycle2 = [0, 2, 1, 3]\n",
        "cycle_length(g, cycle2)"
      ]
    },
    {
      "cell_type": "markdown",
      "id": "185969c8-274e-45ca-8acc-cfc2d5cf87ee",
      "metadata": {
        "id": "185969c8-274e-45ca-8acc-cfc2d5cf87ee"
      },
      "source": [
        "¿Cuál es el peso de los dos ciclos?"
      ]
    },
    {
      "cell_type": "markdown",
      "id": "d059d231-2cb1-447a-97c4-f477f444f5f2",
      "metadata": {
        "id": "d059d231-2cb1-447a-97c4-f477f444f5f2"
      },
      "source": [
        "## Búsqueda exhaustiva\n",
        "\n",
        "**Ejercicio 2.**\n",
        "\n",
        "Implemenae el algoritmo debúsqueda exhaustivaa para el Problema de agente vaijeroo. El algoritmo debe comprobar todas las permutaciones de los vértices y devolver el peso mínimo de un ciclo que visite cada vértice exactamente una vez."
      ]
    },
    {
      "cell_type": "code",
      "execution_count": null,
      "id": "e41c255f-dcaf-48b9-956d-3c4641e37e3c",
      "metadata": {
        "id": "e41c255f-dcaf-48b9-956d-3c4641e37e3c"
      },
      "outputs": [],
      "source": [
        "# paquetería que vas a utilizar (googlea la función que tiene)\n",
        "from itertools import permutations"
      ]
    },
    {
      "cell_type": "code",
      "execution_count": null,
      "id": "ea0a7241-47e2-43f4-8878-256229edc6a0",
      "metadata": {
        "id": "ea0a7241-47e2-43f4-8878-256229edc6a0"
      },
      "outputs": [],
      "source": [
        "# La función all_permutations recibe un objeto gráfica g\n",
        "# La gráfica es completa, no dirigida y sin ciclos\n",
        "# La función debe retornar el PESO del ciclo hamiltoniano más corto\n",
        "# No olvides añadir la última arista que conecta al último vértice con el primero.\n",
        "#\n",
        "# Debes iterar a través de todas las permutaciones del conjunto {0, ..., n-1} y encontrar el ciclo de menor peso\n",
        "\n",
        "def all_permutations(g):\n",
        "    # n es el número de vértices\n",
        "    n = g.number_of_nodes()\n",
        "\n",
        "    # Itera a través de todos los n vértices\n",
        "    #for p in permutations(range(n)):\n",
        "        # Escribe tu código aquí\n",
        "    #HINT: utiliza la función cycle_length\n",
        "\n",
        "    return ???"
      ]
    },
    {
      "cell_type": "markdown",
      "id": "afc8320b-2687-4218-b30f-5bd18d426620",
      "metadata": {
        "id": "afc8320b-2687-4218-b30f-5bd18d426620"
      },
      "source": [
        "Ahora pruebalo para g. ¿Cuál es la distancia del mínimo ciclo hamiltoniano?"
      ]
    },
    {
      "cell_type": "markdown",
      "id": "48edc4d9-c011-4f7b-9633-243b9bbdc94a",
      "metadata": {
        "id": "48edc4d9-c011-4f7b-9633-243b9bbdc94a"
      },
      "source": [
        "## Gráfica del resultado.\n",
        "\n",
        "Utiliza la función all_permutations para ahora obtener el ciclo hamiltoniano"
      ]
    },
    {
      "cell_type": "code",
      "source": [
        "# Coloca aquí la función all_permutations modificada"
      ],
      "metadata": {
        "id": "mFcUX0uyxeVp"
      },
      "id": "mFcUX0uyxeVp",
      "execution_count": null,
      "outputs": []
    },
    {
      "cell_type": "code",
      "execution_count": null,
      "id": "726f7839-c5e1-401e-822d-a97f7ec654ce",
      "metadata": {
        "id": "726f7839-c5e1-401e-822d-a97f7ec654ce"
      },
      "outputs": [],
      "source": [
        "# paquetería\n",
        "import matplotlib.pyplot as plot"
      ]
    },
    {
      "cell_type": "code",
      "execution_count": null,
      "id": "0c176c40-3d21-4a35-8a99-580ee487f53d",
      "metadata": {
        "id": "0c176c40-3d21-4a35-8a99-580ee487f53d"
      },
      "outputs": [],
      "source": [
        "# Esta función recibe\n",
        "# 1. una lista de coordenadas (x,y) de g\n",
        "# 2. un ciclo a visualizar\n",
        "def plot_cycle(coordinates, cycle):\n",
        "    # Calcula las coordinadas 'x' y 'y' en el orden de acuerdo al ciclo\n",
        "    x_coordinates = [coordinates[i][0] for i in cycle]\n",
        "    y_coordinates = [coordinates[i][1] for i in cycle]\n",
        "\n",
        "    # Añadimos el primer vértice para cerrar el ciclo\n",
        "    x_coordinates.append(coordinates[cycle[0]][0])\n",
        "    y_coordinates.append(coordinates[cycle[0]][1])\n",
        "\n",
        "    plot.plot(x_coordinates, y_coordinates, 'xb-', )\n",
        "    plot.show()"
      ]
    },
    {
      "cell_type": "code",
      "execution_count": null,
      "id": "83b3da66-9b0b-41dc-adb1-9acdaffcab0d",
      "metadata": {
        "id": "83b3da66-9b0b-41dc-adb1-9acdaffcab0d"
      },
      "outputs": [],
      "source": [
        "# Considera los siguientes 5 puntos\n",
        "coordenadas = [\n",
        "    (284, 87),\n",
        "    (183, 254),\n",
        "    (113, 185),\n",
        "    (159, 38),\n",
        "    (271, 257)\n",
        "    ]\n",
        "# Creamos la gráfica\n",
        "g1 = get_graph(coordenadas)\n",
        "# utiliza la función modificada para obtener el ciclo y guardarlo aquí\n",
        "cycle = all_permutations(g1)\n",
        "# graficamos el resultado\n",
        "plot_cycle(coordenadas, cycle)"
      ]
    }
  ],
  "metadata": {
    "kernelspec": {
      "display_name": "Python 3 (ipykernel)",
      "language": "python",
      "name": "python3"
    },
    "language_info": {
      "codemirror_mode": {
        "name": "ipython",
        "version": 3
      },
      "file_extension": ".py",
      "mimetype": "text/x-python",
      "name": "python",
      "nbconvert_exporter": "python",
      "pygments_lexer": "ipython3",
      "version": "3.11.6"
    },
    "colab": {
      "provenance": [],
      "include_colab_link": true
    }
  },
  "nbformat": 4,
  "nbformat_minor": 5
}