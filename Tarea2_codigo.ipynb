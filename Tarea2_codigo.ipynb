{
  "cells": [
    {
      "cell_type": "markdown",
      "metadata": {
        "id": "view-in-github",
        "colab_type": "text"
      },
      "source": [
        "<a href=\"https://colab.research.google.com/github/AllisonOdette0901/SIDO_2024_2/blob/main/Tarea2_codigo.ipynb\" target=\"_parent\"><img src=\"https://colab.research.google.com/assets/colab-badge.svg\" alt=\"Open In Colab\"/></a>"
      ]
    },
    {
      "cell_type": "markdown",
      "id": "9cee6f4b-2470-40f9-9293-860f549f7f38",
      "metadata": {
        "id": "9cee6f4b-2470-40f9-9293-860f549f7f38"
      },
      "source": [
        "# Tarea 2. Sección de código\n",
        "\n",
        "## Algoritmos de ordenamiento.\n",
        "\n",
        "1) Coloca los códigos que elaboraste en clase en el siguiente orden. Cada uno de ellos debe tener la explicación con tus porpias palabras de cada uno.\n",
        "\n",
        "- Bubble Sort\n",
        "- Insertion Sort\n",
        "- Selection Sort\n",
        "\n",
        "### Coloca tus códigos"
      ]
    },
    {
      "cell_type": "code",
      "execution_count": null,
      "id": "600c45e4-11ac-436e-ab18-812ba6d7941f",
      "metadata": {
        "id": "600c45e4-11ac-436e-ab18-812ba6d7941f"
      },
      "outputs": [],
      "source": [
        "# código bubble sort"
      ]
    },
    {
      "cell_type": "code",
      "execution_count": null,
      "id": "407e7ea5-6fc6-4823-8370-8787e08851d4",
      "metadata": {
        "id": "407e7ea5-6fc6-4823-8370-8787e08851d4"
      },
      "outputs": [],
      "source": [
        "# código insertion sort"
      ]
    },
    {
      "cell_type": "code",
      "execution_count": null,
      "id": "70328f28-0e88-4c87-8e9c-ccfef00d1a10",
      "metadata": {
        "id": "70328f28-0e88-4c87-8e9c-ccfef00d1a10"
      },
      "outputs": [],
      "source": [
        "#código selection sort"
      ]
    },
    {
      "cell_type": "markdown",
      "id": "63200dbe-7ab2-4d0e-8462-824388430895",
      "metadata": {
        "id": "63200dbe-7ab2-4d0e-8462-824388430895"
      },
      "source": [
        "### Sección de pruebas\n",
        "\n",
        "2. Ahora prueba tus códigos con los siguientes arreglos:"
      ]
    },
    {
      "cell_type": "code",
      "execution_count": null,
      "id": "f89c22df-cd52-4f14-94fd-c871a07e8d71",
      "metadata": {
        "id": "f89c22df-cd52-4f14-94fd-c871a07e8d71"
      },
      "outputs": [],
      "source": [
        "lista1 = [1, 5, -2, 0, 10, 100, 55, 12, 10, 2, -10, -3]"
      ]
    },
    {
      "cell_type": "code",
      "execution_count": null,
      "id": "b6d6687a-6d34-481f-921c-9ed8269519a0",
      "metadata": {
        "id": "b6d6687a-6d34-481f-921c-9ed8269519a0"
      },
      "outputs": [],
      "source": [
        "# Importamos un Método de la biblioteca random para generar listas aleatorias\n",
        "import random\n",
        "\n",
        "# semilla correspondiente a tu número de lista\n",
        "numero_lista = 1\n",
        "random.seed(numero_lista)\n",
        "\n",
        "# lista con 100 números\n",
        "rand_list100 = [random.randint(0, 100) for _ in range(100)]\n",
        "#print(rand_list100) # solo imprime si es necesario\n",
        "\n",
        "rand_list500 = [random.randint(0, 500) for _ in range(500)]\n",
        "#print(rand_list500)  # solo imprime si es necesario\n",
        "\n",
        "rand_list1000 = [random.randint(0, 1000) for _ in range(1000)]\n",
        "#print(rand_list1000)  # solo imprime si es necesario"
      ]
    },
    {
      "cell_type": "markdown",
      "id": "9cefbdb2-a59b-4894-a427-7f1e8d0cc598",
      "metadata": {
        "id": "9cefbdb2-a59b-4894-a427-7f1e8d0cc598"
      },
      "source": [
        "Utiliza la siguiente paquetería, time, para saber cuánto tiempo tarda en ejecutarse tus algoritmos con los distintos arreglos.\n",
        "\n",
        "Aquí tienes un ejemplo de cómo utilizarlo:"
      ]
    },
    {
      "cell_type": "code",
      "execution_count": null,
      "id": "7c744435-10ff-4a14-b988-5abc97663c64",
      "metadata": {
        "id": "7c744435-10ff-4a14-b988-5abc97663c64",
        "outputId": "a562d8c6-6592-4c71-be32-e67646bc867e"
      },
      "outputs": [
        {
          "name": "stdout",
          "output_type": "stream",
          "text": [
            "Para n=10, el tiempo de ejecución es: 6.42e-06 segundos\n",
            "Para n=100, el tiempo de ejecución es: 1.179e-05 segundos\n",
            "Para n=1000, el tiempo de ejecución es: 6.828e-05 segundos\n",
            "Para n=10000, el tiempo de ejecución es: 0.00152832 segundos\n"
          ]
        }
      ],
      "source": [
        "import timeit\n",
        "\n",
        "# función\n",
        "def mi_funcion(n):\n",
        "    return [i for i in range(n)]\n",
        "\n",
        "# Valores para comparar de acuerdo a los parámetros de entrada\n",
        "valores = [10, 100, 1000, 10000]\n",
        "\n",
        "# Comparar el tiempo de ejecución de la función con cada valor\n",
        "# utiliza el round() según el número de dígitos que creas necesario\n",
        "for valor in valores:\n",
        "    tiempo = timeit.timeit(lambda: mi_funcion(valor), number=1)\n",
        "    print(f\"Para n={valor}, el tiempo de ejecución es: {round(tiempo,8)} segundos\")"
      ]
    },
    {
      "cell_type": "markdown",
      "id": "393575e7-bfbc-44c7-83a4-3260bf491204",
      "metadata": {
        "id": "393575e7-bfbc-44c7-83a4-3260bf491204"
      },
      "source": [
        "### Sección de colocar los resultados y concluir\n",
        "\n",
        "En esta parte coloca tus resultados de acuerdo a lo que obtuviste anteriormente. En los siguientes vectores: time_bubble, time_insertion, time_selection, debes colocar los resultados en tiempo que obtuviste con las listas: lista1, rand_list100, rand_list500 y rand_list1000."
      ]
    },
    {
      "cell_type": "code",
      "execution_count": null,
      "id": "3ad7efcf-166e-4fbb-99b6-881fc4467d47",
      "metadata": {
        "id": "3ad7efcf-166e-4fbb-99b6-881fc4467d47",
        "outputId": "39b26174-b487-44b8-bd83-6d408600547c"
      },
      "outputs": [
        {
          "name": "stdout",
          "output_type": "stream",
          "text": [
            "            Bubble sort  Insertion sort  cars_per_cap\n",
            "Lista 1               1               1             1\n",
            "Lista 100             2               2             2\n",
            "Lista 500             3               3             3\n",
            "Lista 1000            4               4             4\n"
          ]
        }
      ],
      "source": [
        "import pandas as pd\n",
        "\n",
        "# Aquí coloca los tiempos que obtuviste\n",
        "time_bubble = [1,2,3,4] # tiempos para bubble\n",
        "time_insertion =  [1,2,3,4] #tiempos para insertion\n",
        "time_selection = [1,2,3,4] #tiempos para selection\n",
        "\n",
        "# creamos un diccionario llamado tiempos para guardar los datos almacenados en los vectores anteriores\n",
        "tiempos ={'Bubble sort':time_bubble,'Insertion sort':time_insertion, 'cars_per_cap':time_selection}\n",
        "\n",
        "# ahora definimos un DataFrame con el diccionario tiempos\n",
        "df_tiempos = pd.DataFrame(tiempos)\n",
        "\n",
        "# definimos el nombre de los labels por renglones\n",
        "row_labels = ['Lista 1','Lista 100','Lista 500','Lista 1000']\n",
        "\n",
        "# Cambiamos el nombre de los labels por renglones del dataframe\n",
        "df_tiempos.index=row_labels\n",
        "\n",
        "# Print df_tiempos\n",
        "print(df_tiempos)"
      ]
    }
  ],
  "metadata": {
    "kernelspec": {
      "display_name": "Python 3 (ipykernel)",
      "language": "python",
      "name": "python3"
    },
    "language_info": {
      "codemirror_mode": {
        "name": "ipython",
        "version": 3
      },
      "file_extension": ".py",
      "mimetype": "text/x-python",
      "name": "python",
      "nbconvert_exporter": "python",
      "pygments_lexer": "ipython3",
      "version": "3.11.6"
    },
    "colab": {
      "provenance": [],
      "include_colab_link": true
    }
  },
  "nbformat": 4,
  "nbformat_minor": 5
}